{
 "cells": [
  {
   "cell_type": "code",
   "execution_count": 7,
   "id": "d77f9737",
   "metadata": {},
   "outputs": [],
   "source": [
    "import json\n",
    "import numpy as np\n",
    "from nltk.corpus import wordnet as wn"
   ]
  },
  {
   "cell_type": "code",
   "execution_count": 54,
   "id": "f87ab285",
   "metadata": {},
   "outputs": [],
   "source": [
    "cn_vec = '../data/processed_data/codenames_vecs{}.json'\n",
    "dt_vec = '../data/processed_data/dictionary_vecs{}{}.json'\n",
    "output = '../data/processed_data/{}_sim_mat{}{}.npz'\n",
    "suffix = ['', '_dblp', '_wiki']\n",
    "suffix_2 = ['', '_3k', '_5k', '_10k', '_20k', '_30k']"
   ]
  },
  {
   "cell_type": "code",
   "execution_count": 55,
   "id": "08563438",
   "metadata": {},
   "outputs": [],
   "source": [
    "def load_data(file):\n",
    "    with open(file) as f:\n",
    "        content = json.load(f)\n",
    "    words = np.array(list(content.keys()))\n",
    "    vecs = np.array(list(content.values()))\n",
    "    word_list = [[words[i], vecs[i]] for i in range(len(words)) if len(wn.synsets(words[i])) > 0]\n",
    "    words, vecs = np.array(word_list, dtype=object).T\n",
    "    vecs = np.array([x.tolist() for x in vecs])\n",
    "    return words, vecs"
   ]
  },
  {
   "cell_type": "code",
   "execution_count": 58,
   "id": "7bb1a47f",
   "metadata": {},
   "outputs": [],
   "source": [
    "for s1 in suffix:\n",
    "    cn_file = cn_vec.format(s1)\n",
    "    for s2 in suffix_2:\n",
    "        if (s1 == '' and s2 != '') or (s1 != '' and s2 == ''):\n",
    "            continue\n",
    "        dt_file = dt_vec.format(s1, s2)\n",
    "        cn_words, cn_vecs = load_data(cn_file)\n",
    "        dt_words, dt_vecs = load_data(dt_file)\n",
    "        # cosine similarity\n",
    "        cosine_sim_mat = np.matmul(dt_vecs, cn_vecs.T)\n",
    "        # wordnet similarities\n",
    "        wn_fn_dict = {\n",
    "            'path': wn.path_similarity,\n",
    "            'lch': wn.lch_similarity,\n",
    "            'wup': wn.wup_similarity\n",
    "        }\n",
    "        path_sim_mat = np.zeros([len(dt_words), len(cn_words)])\n",
    "        wup_sim_mat = np.zeros([len(dt_words), len(cn_words)])\n",
    "        \n",
    "        for i in range(len(dt_words)):\n",
    "            for j in range(len(cn_words)):\n",
    "                dtw = wn.synsets(dt_words[i])[0]\n",
    "                cnw = wn.synsets(cn_words[j])[0]\n",
    "                path_sim_mat[i][j] = wn.path_similarity(dtw, cnw)\n",
    "                wup_sim_mat[i][j] = wn.wup_similarity(dtw, cnw)\n",
    "        \n",
    "        np.savez(\n",
    "            output.format('cosine', s1, s2),\n",
    "            codenames_words=cn_words,\n",
    "            dictionary_words=dt_words,\n",
    "            matrix=cosine_sim_mat\n",
    "        )\n",
    "        \n",
    "        np.savez(\n",
    "            output.format('path', s1, s2),\n",
    "            codenames_words=cn_words,\n",
    "            dictionary_words=dt_words,\n",
    "            matrix=path_sim_mat\n",
    "        )\n",
    "        \n",
    "        np.savez(\n",
    "            output.format('wup', s1, s2),\n",
    "            codenames_words=cn_words,\n",
    "            dictionary_words=dt_words,\n",
    "            matrix=wup_sim_mat\n",
    "        )"
   ]
  },
  {
   "cell_type": "code",
   "execution_count": null,
   "id": "7aec2fb6",
   "metadata": {},
   "outputs": [],
   "source": []
  },
  {
   "cell_type": "code",
   "execution_count": null,
   "id": "fb771aa9",
   "metadata": {},
   "outputs": [],
   "source": []
  }
 ],
 "metadata": {
  "kernelspec": {
   "display_name": "Python 3",
   "language": "python",
   "name": "python3"
  },
  "language_info": {
   "codemirror_mode": {
    "name": "ipython",
    "version": 3
   },
   "file_extension": ".py",
   "mimetype": "text/x-python",
   "name": "python",
   "nbconvert_exporter": "python",
   "pygments_lexer": "ipython3",
   "version": "3.8.8"
  }
 },
 "nbformat": 4,
 "nbformat_minor": 5
}
