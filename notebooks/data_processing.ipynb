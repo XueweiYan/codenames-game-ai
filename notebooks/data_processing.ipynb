{
 "cells": [
  {
   "cell_type": "code",
   "execution_count": 1,
   "id": "d64e1448",
   "metadata": {},
   "outputs": [],
   "source": [
    "from gensim.models.word2vec import KeyedVectors\n",
    "import numpy as np\n",
    "import json"
   ]
  },
  {
   "cell_type": "markdown",
   "id": "d07ad1cc",
   "metadata": {},
   "source": [
    "## Corpus Format Alignment"
   ]
  },
  {
   "cell_type": "code",
   "execution_count": 2,
   "id": "34c115e7",
   "metadata": {},
   "outputs": [],
   "source": [
    "# Filepaths\n",
    "codenames_raw = '../data/raw_data/codenames_word_list.txt'\n",
    "dictionary_raw = [\n",
    "    '../data/raw_data/google-10000-english-usa-no-swears-long.txt',\n",
    "    '../data/raw_data/google-10000-english-usa-no-swears-medium.txt',\n",
    "    '../data/raw_data/google-10000-english-usa-no-swears-short.txt' \n",
    "]\n",
    "codenames_output = '../data/processed_data/codenames_vecs.json'\n",
    "dictionary_output = '../data/processed_data/dictionary_vecs.json'"
   ]
  },
  {
   "cell_type": "code",
   "execution_count": 3,
   "id": "cd4381be",
   "metadata": {},
   "outputs": [],
   "source": [
    "# Process codenames word list\n",
    "with open(codenames_raw) as f:\n",
    "    raw_text = f.readlines()\n",
    "codenames_word = np.array([x.strip().lower() for x in raw_text])"
   ]
  },
  {
   "cell_type": "code",
   "execution_count": 4,
   "id": "d044f1e1",
   "metadata": {},
   "outputs": [],
   "source": [
    "# Process dictionary corpus\n",
    "processed_text = []\n",
    "for file in dictionary_raw:\n",
    "    with open(file) as f:\n",
    "        raw_text = f.readlines()\n",
    "        processed_text += [x.strip().lower() for x in raw_text]\n",
    "dict_word = np.array(processed_text)"
   ]
  },
  {
   "cell_type": "markdown",
   "id": "756863d0",
   "metadata": {},
   "source": [
    "## Match Vector Embeddings"
   ]
  },
  {
   "cell_type": "code",
   "execution_count": 5,
   "id": "8ebac850",
   "metadata": {},
   "outputs": [],
   "source": [
    "def lowercase_corpus(kv):\n",
    "    words = []\n",
    "    vecs = []\n",
    "    word_list = kv.index_to_key\n",
    "    count = 0\n",
    "    for word in word_list:\n",
    "        words.append(word.lower())\n",
    "        vecs.append(kv[word])\n",
    "    kv.add_vectors(words, vecs)\n",
    "    return kv"
   ]
  },
  {
   "cell_type": "code",
   "execution_count": 6,
   "id": "e9d195dd",
   "metadata": {},
   "outputs": [],
   "source": [
    "kv = KeyedVectors.load_word2vec_format('../data/word_corpus/model.bin', binary=True)\n",
    "kv = lowercase_corpus(kv)\n",
    "codenames_vecs = {x: kv[x].tolist() for x in codenames_word if x in kv.key_to_index}\n",
    "dictionary_vecs = {x: kv[x].tolist() for x in dict_word if x in kv.key_to_index}"
   ]
  },
  {
   "cell_type": "code",
   "execution_count": 7,
   "id": "2e41f32d",
   "metadata": {},
   "outputs": [],
   "source": [
    "with open(codenames_output, 'w') as f:\n",
    "    json.dump(codenames_vecs, f)\n",
    "with open(dictionary_output, 'w') as f:\n",
    "    json.dump(dictionary_vecs, f)"
   ]
  },
  {
   "cell_type": "code",
   "execution_count": null,
   "id": "008e5894",
   "metadata": {},
   "outputs": [],
   "source": []
  },
  {
   "cell_type": "code",
   "execution_count": null,
   "id": "6a08f555",
   "metadata": {},
   "outputs": [],
   "source": []
  }
 ],
 "metadata": {
  "kernelspec": {
   "display_name": "Python 3",
   "language": "python",
   "name": "python3"
  },
  "language_info": {
   "codemirror_mode": {
    "name": "ipython",
    "version": 3
   },
   "file_extension": ".py",
   "mimetype": "text/x-python",
   "name": "python",
   "nbconvert_exporter": "python",
   "pygments_lexer": "ipython3",
   "version": "3.8.8"
  }
 },
 "nbformat": 4,
 "nbformat_minor": 5
}
