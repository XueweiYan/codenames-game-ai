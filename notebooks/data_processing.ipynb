{
 "cells": [
  {
   "cell_type": "code",
   "execution_count": 22,
   "id": "d64e1448",
   "metadata": {},
   "outputs": [],
   "source": [
    "import numpy as np"
   ]
  },
  {
   "cell_type": "code",
   "execution_count": 23,
   "id": "34c115e7",
   "metadata": {},
   "outputs": [],
   "source": [
    "# Filepaths\n",
    "codenames_raw = '../data/raw_data/codenames_word_list.txt'\n",
    "dictionary_raw = [\n",
    "    '../data/raw_data/google-10000-english-usa-no-swears-long.txt',\n",
    "    '../data/raw_data/google-10000-english-usa-no-swears-medium.txt',\n",
    "    '../data/raw_data/google-10000-english-usa-no-swears-short.txt' \n",
    "]\n",
    "codenames_output = '../data/processed_data/codenames_word_list.npy'\n",
    "dictionary_output = '../data/processed_data/word_dict.npy'"
   ]
  },
  {
   "cell_type": "code",
   "execution_count": 24,
   "id": "cd4381be",
   "metadata": {},
   "outputs": [],
   "source": [
    "# Process codenames word list\n",
    "with open(codenames_raw) as f:\n",
    "    raw_text = f.readlines()\n",
    "processed_text = np.array([x.strip().lower() for x in raw_text])\n",
    "np.save(codenames_output, processed_text)"
   ]
  },
  {
   "cell_type": "code",
   "execution_count": 25,
   "id": "d044f1e1",
   "metadata": {},
   "outputs": [],
   "source": [
    "# Process dictionary corpus\n",
    "processed_text = []\n",
    "for file in dictionary_raw:\n",
    "    with open(file) as f:\n",
    "        raw_text = f.readlines()\n",
    "        processed_text += [x.strip().lower() for x in raw_text]\n",
    "processed_text = np.array(processed_text)\n",
    "np.save(dictionary_output, processed_text)"
   ]
  },
  {
   "cell_type": "code",
   "execution_count": null,
   "id": "cb6676e8",
   "metadata": {},
   "outputs": [],
   "source": []
  }
 ],
 "metadata": {
  "kernelspec": {
   "display_name": "Python 3",
   "language": "python",
   "name": "python3"
  },
  "language_info": {
   "codemirror_mode": {
    "name": "ipython",
    "version": 3
   },
   "file_extension": ".py",
   "mimetype": "text/x-python",
   "name": "python",
   "nbconvert_exporter": "python",
   "pygments_lexer": "ipython3",
   "version": "3.8.8"
  }
 },
 "nbformat": 4,
 "nbformat_minor": 5
}
