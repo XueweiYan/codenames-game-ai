{
 "cells": [
  {
   "cell_type": "code",
   "execution_count": 1,
   "id": "88b6b29b",
   "metadata": {},
   "outputs": [],
   "source": [
    "import numpy as np\n",
    "import torch\n",
    "import json\n",
    "import matplotlib.pyplot as plt"
   ]
  },
  {
   "cell_type": "code",
   "execution_count": 2,
   "id": "5b180139",
   "metadata": {},
   "outputs": [],
   "source": [
    "codenames_file = '../data/processed_data/codenames_vecs.json'\n",
    "dictionary_file = '../data/processed_data/dictionary_vecs.json'"
   ]
  },
  {
   "cell_type": "code",
   "execution_count": 6,
   "id": "3e6c0919",
   "metadata": {},
   "outputs": [],
   "source": [
    "class Codenames:\n",
    "    def __init__(self,\n",
    "        codenames_file='../data/processed_data/codenames_vecs.json',\n",
    "        dictionary_file='../data/processed_data/dictionary_vecs.json'\n",
    "    ):\n",
    "        self.codenames_words, self.codenames_vecs = self.load_data(codenames_file)\n",
    "        self.dictionary_words, self.dictionary_vecs = self.load_data(dictionary_file)\n",
    "        self.initiate_game()\n",
    "        self.display_board()\n",
    "\n",
    "    def load_data(self, file):\n",
    "        with open(file) as f:\n",
    "            content = json.load(f)\n",
    "        words = np.array(list(content.keys()))\n",
    "        vecs = np.array(list(content.values()))\n",
    "        return words, vecs\n",
    "\n",
    "    def initiate_game(self):\n",
    "        self.cosine_sim_mat = np.matmul(self.dictionary_vecs, self.codenames_vecs.T) # shape = (NUM_DICT, NUM_CODENAMES)\n",
    "        game_words = np.random.choice(range(len(self.codenames_words)), 25)\n",
    "        self.remove_game_words_from_dict(game_words)\n",
    "        self.team_a = game_words[:9]\n",
    "        self.team_b = game_words[9:17]\n",
    "        self.neutral = game_words[17:24]\n",
    "        self.black = game_words[24:25]\n",
    "        self.game_word_ids = np.random.choice(game_words, 25, replace=False)\n",
    "        return None\n",
    "    \n",
    "    def remove_game_words_from_dict(self, game_words):\n",
    "        lst_to_remove = []\n",
    "        for idx in game_words:\n",
    "            match_num = np.where(self.dictionary_words==self.codenames_words[idx])[0]\n",
    "            if len(match_num) > 0:\n",
    "                lst_to_remove.append(match_num[0])\n",
    "        self.cosine_sim_mat = np.delete(self.cosine_sim_mat, lst_to_remove, 0)\n",
    "        self.dictionary_words = np.delete(self.dictionary_words, lst_to_remove)\n",
    "        self.dictionary_vecs = np.delete(self.dictionary_vecs, lst_to_remove)\n",
    "        return None\n",
    "        \n",
    "    def display_board(self):\n",
    "        print(self.codenames_words[self.game_word_ids])\n",
    "        return None\n",
    "    \n",
    "    def get_team_a_words(self):\n",
    "        return self.codenames_words[self.team_a]\n",
    "    \n",
    "    def get_team_b_words(self):\n",
    "        return self.codenames_words[self.team_b]\n",
    "    \n",
    "    def compute_score(self):\n",
    "        ########\n",
    "        # TODO #\n",
    "        ########\n",
    "        ret = (\n",
    "            self.cosine_sim_mat[:, self.team_a].sum(axis=1) -\n",
    "            2 * self.cosine_sim_mat[:, self.team_b].sum(axis=1) - \n",
    "            1 * self.cosine_sim_mat[:, self.neutral].sum(axis=1) -\n",
    "            5 * self.cosine_sim_mat[:, self.black].sum(axis=1)\n",
    "        )\n",
    "        return ret\n",
    "    \n",
    "    def find_optimal_num_guess(self, idx):\n",
    "        ########\n",
    "        # TODO #\n",
    "        ########\n",
    "        print(self.cosine_sim_mat[idx, self.team_a])\n",
    "        print(self.cosine_sim_mat[idx, self.team_b])\n",
    "        print(self.cosine_sim_mat[idx, self.neutral])\n",
    "        print(self.cosine_sim_mat[idx, self.black])\n",
    "        \n",
    "    def ai_guess(self):\n",
    "        idx = self.compute_score().argmax()\n",
    "        self.find_optimal_num_guess(idx)\n",
    "        return self.dictionary_words[idx]"
   ]
  },
  {
   "cell_type": "code",
   "execution_count": 7,
   "id": "69cb9bc9",
   "metadata": {},
   "outputs": [
    {
     "name": "stdout",
     "output_type": "stream",
     "text": [
      "['yard' 'belt' 'whale' 'apple' 'crown' 'tube' 'plate' 'horseshoe' 'model'\n",
      " 'brush' 'server' 'phoenix' 'death' 'ghost' 'tie' 'iron' 'lemon' 'lap'\n",
      " 'ice' 'litter' 'cold' 'strike' 'figure' 'death' 'cotton']\n"
     ]
    }
   ],
   "source": [
    "a = Codenames()"
   ]
  },
  {
   "cell_type": "code",
   "execution_count": 8,
   "id": "393bdb66",
   "metadata": {
    "scrolled": true
   },
   "outputs": [
    {
     "name": "stdout",
     "output_type": "stream",
     "text": [
      "[ 0.00453075  0.07130806  0.04536674 -0.0003753  -0.00236256  0.04929662\n",
      "  0.1308451   0.1308451   0.05094213]\n",
      "[ 0.0806136   0.00523256 -0.03445225  0.07224716  0.02917234 -0.04990692\n",
      " -0.05155596 -0.04317351]\n",
      "[ 0.02045589  0.04080355 -0.03125464 -0.05219033 -0.01935559  0.06301405\n",
      "  0.13145726]\n",
      "[0.00261078]\n"
     ]
    },
    {
     "data": {
      "text/plain": [
       "'nominated'"
      ]
     },
     "execution_count": 8,
     "metadata": {},
     "output_type": "execute_result"
    }
   ],
   "source": [
    "a.ai_guess()"
   ]
  },
  {
   "cell_type": "code",
   "execution_count": 9,
   "id": "4ddb415d",
   "metadata": {},
   "outputs": [
    {
     "data": {
      "text/plain": [
       "array(['whale', 'server', 'belt', 'cotton', 'yard', 'lap', 'death',\n",
       "       'death', 'crown'], dtype='<U11')"
      ]
     },
     "execution_count": 9,
     "metadata": {},
     "output_type": "execute_result"
    }
   ],
   "source": [
    "a.get_team_a_words()"
   ]
  },
  {
   "cell_type": "code",
   "execution_count": null,
   "id": "e8ee2891",
   "metadata": {},
   "outputs": [],
   "source": []
  }
 ],
 "metadata": {
  "kernelspec": {
   "display_name": "Python 3",
   "language": "python",
   "name": "python3"
  },
  "language_info": {
   "codemirror_mode": {
    "name": "ipython",
    "version": 3
   },
   "file_extension": ".py",
   "mimetype": "text/x-python",
   "name": "python",
   "nbconvert_exporter": "python",
   "pygments_lexer": "ipython3",
   "version": "3.8.8"
  }
 },
 "nbformat": 4,
 "nbformat_minor": 5
}
