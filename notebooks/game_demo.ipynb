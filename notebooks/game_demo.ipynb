{
 "cells": [
  {
   "cell_type": "code",
   "execution_count": 1,
   "id": "88b6b29b",
   "metadata": {},
   "outputs": [],
   "source": [
    "import numpy as np\n",
    "import torch\n",
    "import json\n",
    "import matplotlib.pyplot as plt"
   ]
  },
  {
   "cell_type": "code",
   "execution_count": 2,
   "id": "5b180139",
   "metadata": {},
   "outputs": [],
   "source": [
    "codenames_file = '../data/processed_data/codenames_vecs.json'\n",
    "dictionary_file = '../data/processed_data/dictionary_vecs.json'"
   ]
  },
  {
   "cell_type": "code",
   "execution_count": 39,
   "id": "3e6c0919",
   "metadata": {},
   "outputs": [],
   "source": [
    "class Codenames:\n",
    "    def __init__(self,\n",
    "                codenames_file='../data/processed_data/codenames_vecs.json',\n",
    "                dictionary_file='../data/processed_data/dictionary_vecs.json',\n",
    "                threshold=0.1\n",
    "    ):\n",
    "        self.codenames_words, self.codenames_vecs = self.load_data(codenames_file)\n",
    "        self.dictionary_words, self.dictionary_vecs = self.load_data(dictionary_file)\n",
    "        self.threshold = threshold\n",
    "        self.initiate_game()\n",
    "        self.display_board()\n",
    "\n",
    "    def load_data(self, file):\n",
    "        with open(file) as f:\n",
    "            content = json.load(f)\n",
    "        words = np.array(list(content.keys()))\n",
    "        vecs = np.array(list(content.values()))\n",
    "        return words, vecs\n",
    "\n",
    "    def initiate_game(self):\n",
    "        self.cosine_sim_mat = np.matmul(self.dictionary_vecs, self.codenames_vecs.T) # shape = (NUM_DICT, NUM_CODENAMES)\n",
    "        game_words = np.random.choice(range(len(self.codenames_words)), 25)\n",
    "        self.remove_game_words_from_dict(game_words)\n",
    "        self.team_a = game_words[:9]\n",
    "        self.team_b = game_words[9:17]\n",
    "        self.neutral = game_words[17:24]\n",
    "        self.black = game_words[24:25]\n",
    "        self.game_word_ids = np.random.choice(game_words, 25, replace=False)\n",
    "        return None\n",
    "    \n",
    "    def remove_game_words_from_dict(self, game_words):\n",
    "        lst_to_remove = []\n",
    "        for idx in game_words:\n",
    "            match_num = np.where(self.dictionary_words==self.codenames_words[idx])[0]\n",
    "            if len(match_num) > 0:\n",
    "                lst_to_remove.append(match_num[0])\n",
    "        self.cosine_sim_mat = np.delete(self.cosine_sim_mat, lst_to_remove, 0)\n",
    "        self.dictionary_words = np.delete(self.dictionary_words, lst_to_remove)\n",
    "        self.dictionary_vecs = np.delete(self.dictionary_vecs, lst_to_remove)\n",
    "        return None\n",
    "        \n",
    "    def display_board(self):\n",
    "        print(np.array(self.codenames_words[self.game_word_ids]).reshape(5,5))\n",
    "        return None\n",
    "    \n",
    "    def get_team_a_words(self):\n",
    "        return self.codenames_words[self.team_a]\n",
    "    \n",
    "    def get_team_b_words(self):\n",
    "        return self.codenames_words[self.team_b]\n",
    "    \n",
    "    def compute_score(self):\n",
    "        ########\n",
    "        # TODO #\n",
    "        ########\n",
    "        ret = []\n",
    "        enemy_words = np.concatenate((self.team_a, self.neutral, self.black))\n",
    "        for i in range(len(self.dictionary_words)):\n",
    "            lowest_bound_ai = np.max(\n",
    "                self.cosine_sim_mat[i, enemy_words] + [self.threshold]\n",
    "            )\n",
    "            suggested_count = np.sum(self.cosine_sim_mat[i, self.team_b] > lowest_bound_ai)\n",
    "            weighted_score = np.sqrt(lowest_bound_ai) * suggested_count\n",
    "            ret.append([lowest_bound_ai, suggested_count, weighted_score])\n",
    "        ret = np.array(ret)\n",
    "        return ret\n",
    "    \n",
    "    def find_optimal_num_guess(self, idx):\n",
    "        ########\n",
    "        # TODO #\n",
    "        ########\n",
    "        print(self.cosine_sim_mat[idx, self.team_a])\n",
    "        print(self.cosine_sim_mat[idx, self.team_b])\n",
    "        print(self.cosine_sim_mat[idx, self.neutral])\n",
    "        print(self.cosine_sim_mat[idx, self.black])\n",
    "        \n",
    "    def ai_guess(self):\n",
    "        scores = self.compute_score()\n",
    "        idx = scores[:, 2].argmax()\n",
    "        print(scores[idx])\n",
    "        self.find_optimal_num_guess(idx)\n",
    "        return self.dictionary_words[idx]"
   ]
  },
  {
   "cell_type": "code",
   "execution_count": 40,
   "id": "69cb9bc9",
   "metadata": {},
   "outputs": [
    {
     "name": "stdout",
     "output_type": "stream",
     "text": [
      "[['mexico' 'england' 'racket' 'swing' 'tick']\n",
      " ['lock' 'shark' 'swing' 'pie' 'sink']\n",
      " ['stream' 'suit' 'line' 'horseshoe' 'march']\n",
      " ['screen' 'shark' 'brush' 'pilot' 'saturn']\n",
      " ['alien' 'mole' 'cotton' 'center' 'brush']]\n"
     ]
    }
   ],
   "source": [
    "a = Codenames()"
   ]
  },
  {
   "cell_type": "code",
   "execution_count": 41,
   "id": "393bdb66",
   "metadata": {
    "scrolled": true
   },
   "outputs": [
    {
     "name": "stdout",
     "output_type": "stream",
     "text": [
      "[0.21984532 3.         1.40662996]\n",
      "[ 0.11951952  0.06091695  0.1160201   0.1161056   0.05166761  0.11984532\n",
      "  0.07540869 -0.03486341  0.03746789]\n",
      "[0.19827251 0.11951952 0.11984532 0.17430963 0.09723017 0.34918793\n",
      " 0.25018416 0.27870613]\n",
      "[0.1024112  0.10935318 0.10991018 0.11148128 0.03746789 0.05803488\n",
      " 0.10207111]\n",
      "[0.05872795]\n"
     ]
    },
    {
     "data": {
      "text/plain": [
       "'courts'"
      ]
     },
     "execution_count": 41,
     "metadata": {},
     "output_type": "execute_result"
    }
   ],
   "source": [
    "a.ai_guess()"
   ]
  },
  {
   "cell_type": "code",
   "execution_count": 42,
   "id": "4ddb415d",
   "metadata": {},
   "outputs": [
    {
     "data": {
      "text/plain": [
       "array(['england', 'swing', 'brush', 'center', 'pie', 'racket',\n",
       "       'horseshoe', 'suit'], dtype='<U11')"
      ]
     },
     "execution_count": 42,
     "metadata": {},
     "output_type": "execute_result"
    }
   ],
   "source": [
    "a.get_team_b_words()"
   ]
  },
  {
   "cell_type": "code",
   "execution_count": null,
   "id": "e8ee2891",
   "metadata": {},
   "outputs": [],
   "source": []
  }
 ],
 "metadata": {
  "kernelspec": {
   "display_name": "Python 3",
   "language": "python",
   "name": "python3"
  },
  "language_info": {
   "codemirror_mode": {
    "name": "ipython",
    "version": 3
   },
   "file_extension": ".py",
   "mimetype": "text/x-python",
   "name": "python",
   "nbconvert_exporter": "python",
   "pygments_lexer": "ipython3",
   "version": "3.8.8"
  }
 },
 "nbformat": 4,
 "nbformat_minor": 5
}
