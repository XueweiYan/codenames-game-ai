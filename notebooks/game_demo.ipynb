{
 "cells": [
  {
   "cell_type": "code",
   "execution_count": 178,
   "id": "88b6b29b",
   "metadata": {},
   "outputs": [],
   "source": [
    "import torch\n",
    "import json\n",
    "import matplotlib.pyplot as plt"
   ]
  },
  {
   "cell_type": "code",
   "execution_count": 5,
   "id": "5b180139",
   "metadata": {},
   "outputs": [],
   "source": [
    "codenames_file = '../data/processed_data/codenames_vecs.json'\n",
    "dictionary_file = '../data/processed_data/dictionary_vecs.json'"
   ]
  },
  {
   "cell_type": "code",
   "execution_count": 164,
   "id": "3e6c0919",
   "metadata": {},
   "outputs": [],
   "source": [
    "class Codenames:\n",
    "    def __init__(self,\n",
    "        codenames_file='../data/processed_data/codenames_vecs.json',\n",
    "        dictionary_file='../data/processed_data/dictionary_vecs.json'\n",
    "    ):\n",
    "        self.codenames_words, self.codenames_vecs = self.load_data(codenames_file)\n",
    "        self.dictionary_words, self.dictionary_vecs = self.load_data(dictionary_file)\n",
    "        self.cosine_sim_mat = torch.matmul(self.dictionary_vecs, self.codenames_vecs.T) # shape = (NUM_DICT, NUM_CODENAMES)\n",
    "        self.initiate_game()\n",
    "        self.display_board()\n",
    "\n",
    "    def load_data(self, file):\n",
    "        with open(file) as f:\n",
    "            content = json.load(f)\n",
    "        words = np.array(list(content.keys()))\n",
    "        vecs = torch.Tensor(list(content.values()))\n",
    "        return words, vecs\n",
    "\n",
    "    def initiate_game(self):\n",
    "        game_words = np.random.choice(range(self.cosine_sim_mat.shape[1]), 25)\n",
    "        self.team_a = game_words[:9]\n",
    "        self.team_b = game_words[9:17]\n",
    "        self.neutral = game_words[17:24]\n",
    "        self.black = game_words[24:25]\n",
    "        self.game_word_ids = np.random.choice(game_words, 25, replace=False)\n",
    "        return None\n",
    "    \n",
    "    def display_board(self):\n",
    "        print(self.codenames_words[self.game_word_ids])\n",
    "        return None\n",
    "    \n",
    "    def compute_score(self):\n",
    "        ret = (\n",
    "            self.cosine_sim_mat[:, team_a].sum(axis=1) -\n",
    "            2 * self.cosine_sim_mat[:, team_b].sum(axis=1) - \n",
    "            self.cosine_sim_mat[:, neutral].sum(axis=1) -\n",
    "            5 * self.cosine_sim_mat[:, black].sum(axis=1)\n",
    "        )\n",
    "        return ret\n",
    "    \n",
    "    def ai_guess(self):\n",
    "        score = self.compute_score()\n",
    "        return self.dictionary_words[score.argmax()], score.argmax()"
   ]
  },
  {
   "cell_type": "code",
   "execution_count": 165,
   "id": "69cb9bc9",
   "metadata": {},
   "outputs": [
    {
     "name": "stdout",
     "output_type": "stream",
     "text": [
      "['canada' 'death' 'fence' 'honey' 'well' 'giant' 'shot' 'germany' 'belt'\n",
      " 'car' 'fire' 'palm' 'pipe' 'root' 'mine' 'stream' 'theater' 'ball' 'life'\n",
      " 'tablet' 'ruler' 'cell' 'thief' 'bond' 'mole']\n"
     ]
    }
   ],
   "source": [
    "a = Codenames()"
   ]
  },
  {
   "cell_type": "code",
   "execution_count": 183,
   "id": "449b1544",
   "metadata": {},
   "outputs": [
    {
     "data": {
      "text/plain": [
       "<matplotlib.collections.PathCollection at 0x7f5f9930e460>"
      ]
     },
     "execution_count": 183,
     "metadata": {},
     "output_type": "execute_result"
    },
    {
     "data": {
      "image/png": "[encoded data removed]",
      "text/plain": [
       "<Figure size 432x288 with 1 Axes>"
      ]
     },
     "metadata": {
      "needs_background": "light"
     },
     "output_type": "display_data"
    }
   ],
   "source": [
    "plt.scatter(a.compute_score(), range(9650))"
   ]
  },
  {
   "cell_type": "code",
   "execution_count": 60,
   "id": "4334d795",
   "metadata": {},
   "outputs": [],
   "source": [
    "def get_score(attempt):\n",
    "    score = 0\n",
    "    for word in team_a:\n",
    "        score += kv.similarity(attempt, word)\n",
    "    for word in team_b:\n",
    "        score -= kv.similarity(attempt, word)\n",
    "    return score"
   ]
  },
  {
   "cell_type": "code",
   "execution_count": 63,
   "id": "393bdb66",
   "metadata": {},
   "outputs": [
    {
     "name": "stdout",
     "output_type": "stream",
     "text": [
      "first 0.1200227439403534\n",
      "years 0.23091446282342076\n",
      "team 0.39515744149684906\n",
      "home 0.4928790330886841\n",
      "building 0.512497644405812\n",
      "field 0.5791422910988331\n",
      "hospital 0.6857124801026657\n",
      "heart 0.8672120422124863\n",
      "seal 1.115716615691781\n",
      "damerel\n"
     ]
    }
   ],
   "source": [
    "best_score = 0\n",
    "best_word = None\n",
    "for word in kv.index_to_key:\n",
    "    score = get_score(word)\n",
    "    if score > best_score:\n",
    "        best_score = score\n",
    "        best_word = word\n",
    "        print(best_word, best_score)\n",
    "print(word)"
   ]
  },
  {
   "cell_type": "code",
   "execution_count": 65,
   "id": "4ddb415d",
   "metadata": {},
   "outputs": [
    {
     "name": "stdout",
     "output_type": "stream",
     "text": [
      "['boom' 'seal' 'hospital' 'flute' 'lap' 'press' 'pistol' 'bark' 'tag'\n",
      " 'heart' 'field' 'horseshoe']\n"
     ]
    }
   ],
   "source": [
    "print(team_a)"
   ]
  }
 ],
 "metadata": {
  "kernelspec": {
   "display_name": "Python 3",
   "language": "python",
   "name": "python3"
  },
  "language_info": {
   "codemirror_mode": {
    "name": "ipython",
    "version": 3
   },
   "file_extension": ".py",
   "mimetype": "text/x-python",
   "name": "python",
   "nbconvert_exporter": "python",
   "pygments_lexer": "ipython3",
   "version": "3.8.8"
  }
 },
 "nbformat": 4,
 "nbformat_minor": 5
}
